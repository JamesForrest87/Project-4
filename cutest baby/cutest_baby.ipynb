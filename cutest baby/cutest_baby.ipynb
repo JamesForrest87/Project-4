{
 "cells": [
  {
   "cell_type": "code",
   "execution_count": 6,
   "id": "53446a43-e2d3-4778-93fa-fbb552dfbffd",
   "metadata": {},
   "outputs": [
    {
     "name": "stdout",
     "output_type": "stream",
     "text": [
      "Accuracy: 0.6666666666666666\n"
     ]
    }
   ],
   "source": [
    "import pandas as pd\n",
    "from sklearn.model_selection import train_test_split\n",
    "from sklearn.ensemble import RandomForestClassifier\n",
    "from sklearn.metrics import accuracy_score\n",
    "\n",
    "# Load the data\n",
    "data = pd.read_csv('/Users/khalidnaji/Desktop/cutest baby/Research for project 4.csv')\n",
    "data.dropna(inplace=True)\n",
    "\n",
    "# Calculate the most frequent rank for each baby\n",
    "baby_ranks = data.drop(columns=['Timestamp']).apply(pd.Series.value_counts, axis=1)\n",
    "\n",
    "# Use the most frequent rank as the label for each baby\n",
    "data['cutest_baby_label'] = baby_ranks.idxmax(axis=1)\n",
    "\n",
    "# Split the data into features (X) and target variable (y)\n",
    "X = data.drop(columns=['Timestamp', 'cutest_baby_label'])\n",
    "y = data['cutest_baby_label']\n",
    "\n",
    "# Split the data into training and testing sets\n",
    "X_train, X_test, y_train, y_test = train_test_split(X, y, test_size=0.2, random_state=42)\n",
    "\n",
    "# Initialize and train the model\n",
    "model = RandomForestClassifier(n_estimators=100, random_state=42)\n",
    "model.fit(X_train, y_train)\n",
    "\n",
    "# Make predictions on the testing set\n",
    "y_pred = model.predict(X_test)\n",
    "\n",
    "# Evaluate the model\n",
    "accuracy = accuracy_score(y_test, y_pred)\n",
    "print(\"Accuracy:\", accuracy)\n"
   ]
  }
 ],
 "metadata": {
  "kernelspec": {
   "display_name": "Python 3 (ipykernel)",
   "language": "python",
   "name": "python3"
  },
  "language_info": {
   "codemirror_mode": {
    "name": "ipython",
    "version": 3
   },
   "file_extension": ".py",
   "mimetype": "text/x-python",
   "name": "python",
   "nbconvert_exporter": "python",
   "pygments_lexer": "ipython3",
   "version": "3.11.5"
  }
 },
 "nbformat": 4,
 "nbformat_minor": 5
}
